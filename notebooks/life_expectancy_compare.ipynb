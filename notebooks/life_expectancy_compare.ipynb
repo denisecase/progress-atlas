{
 "cells": [
  {
   "cell_type": "markdown",
   "id": "f3bb2ee2",
   "metadata": {},
   "source": [
    "# Life Expectancy at Birth (1960–2022)\n",
    "\n",
    "Compare life expectancy at birth by country, region, or economic classification.\n",
    "\n",
    "Denise Case | 2025-05\n",
    "\n",
    "---\n",
    "\n",
    "## Compare\n",
    "\n",
    "Use the dropdown menus below to explore and compare life expectancy trends."
   ]
  },
  {
   "cell_type": "code",
   "execution_count": 36,
   "id": "3edc40dd",
   "metadata": {},
   "outputs": [],
   "source": [
    "# Imports (Once at the top of the file)\n",
    "from datetime import datetime\n",
    "import sys\n",
    "from pathlib import Path\n",
    "import ipywidgets as widgets\n",
    "from IPython.display import display\n",
    "import plotly.graph_objects as go\n",
    "\n",
    "# Define Constant Paths\n",
    "NOTEBOOK_DIR = Path().resolve()\n",
    "ROOT_DIR = NOTEBOOK_DIR.parent\n",
    "SCRIPTS_DIR = ROOT_DIR / \"scripts\"\n",
    "DATA_DIR = ROOT_DIR / \"data\"\n",
    "sys.path.append(str(SCRIPTS_DIR))\n",
    "DATA_FILE = DATA_DIR / \"raw\" / \"API_SP.DYN.LE00.IN_DS2_en_csv_v2_369933.csv\"\n",
    "\n",
    "# Import custom modules\n",
    "from life_expectancy_prep import get_life_expectancy_df  # noqa: E402\n",
    "\n"
   ]
  },
  {
   "cell_type": "code",
   "execution_count": 37,
   "id": "361c22a4",
   "metadata": {},
   "outputs": [
    {
     "data": {
      "application/vnd.jupyter.widget-view+json": {
       "model_id": "d623ee0f11e34cfaa30dd19b08ce301d",
       "version_major": 2,
       "version_minor": 0
      },
      "text/plain": [
       "interactive(children=(Dropdown(description='Location 1:', options=('Afghanistan', 'Africa Eastern and Southern…"
      ]
     },
     "metadata": {},
     "output_type": "display_data"
    },
    {
     "data": {
      "application/vnd.jupyter.widget-view+json": {
       "model_id": "c0b261e3239c480aa3542700ebfdfe4d",
       "version_major": 2,
       "version_minor": 0
      },
      "text/plain": [
       "HBox(children=(Button(button_style='success', description='💾 Save Chart Data', style=ButtonStyle()), Button(bu…"
      ]
     },
     "metadata": {},
     "output_type": "display_data"
    },
    {
     "data": {
      "application/vnd.jupyter.widget-view+json": {
       "model_id": "35f8f47505c54acbb5c6c1c486180dc6",
       "version_major": 2,
       "version_minor": 0
      },
      "text/plain": [
       "HBox(children=(HTML(value='\\n    <a href=\"https://github.com/denisecase/progress-atlas\" target=\"_blank\" style=…"
      ]
     },
     "metadata": {},
     "output_type": "display_data"
    }
   ],
   "source": [
    "df = get_life_expectancy_df()\n",
    "\n",
    "# Dropdown widgets for location selection\n",
    "location_list = sorted(df.columns.tolist())\n",
    "location1 = widgets.Dropdown(options=location_list, description=\"Location 1:\", value=location_list[0])\n",
    "location2 = widgets.Dropdown(options=location_list, description=\"Location 2:\", value=location_list[13])\n",
    "location3 = widgets.Dropdown(options=location_list, description=\"Location 3:\", value=location_list[253])\n",
    "\n",
    "# Define custom styles and markers\n",
    "style_map = {\n",
    "    \"solid\": \"solid\",\n",
    "    \"dash\": \"dash\",\n",
    "    \"dot\": \"dot\"\n",
    "}\n",
    "marker_map = {\n",
    "    \"circle\": \"circle\",\n",
    "    \"square\": \"square\",\n",
    "    \"diamond\": \"diamond\"\n",
    "}\n",
    "color_map = {\n",
    "    location1.value: \"royalblue\",\n",
    "    location2.value: \"green\",\n",
    "    location3.value: \"purple\"\n",
    "}\n",
    "\n",
    "\n",
    "def get_chart(c1, c2,c3):\n",
    "    fig = go.Figure()\n",
    "\n",
    "    for i, country in enumerate([c1, c2,c3]):\n",
    "        fig.add_trace(\n",
    "            go.Scatter(\n",
    "                x=df.index.astype(int),\n",
    "                y=df[country],\n",
    "                mode=\"lines+markers\",\n",
    "                name=country,\n",
    "                line=dict(\n",
    "                    dash=list(style_map.values())[i],\n",
    "                    width=2,\n",
    "                    color=color_map.get(country, None)\n",
    "                ),\n",
    "                marker=dict(\n",
    "                    symbol=list(marker_map.values())[i],\n",
    "                    size=6\n",
    "                )\n",
    "            )\n",
    "        )\n",
    "\n",
    "    fig.update_layout(\n",
    "        title=f\"Life Expectancy Comparison:\\n{c1} vs {c2} vs {c3}\",\n",
    "        xaxis_title=\"Year\",\n",
    "        yaxis_title=\"Life Expectancy at Birth (Years)\",\n",
    "        height=500\n",
    "    )\n",
    "\n",
    "    fig.show()\n",
    "\n",
    "widgets.interact(get_chart, c1=location1, c2=location2,c3=location3)\n",
    "\n",
    "# Function 1: Save all countries, all years\n",
    "def save_all_data(b):\n",
    "    timestamp = datetime.now().strftime(\"%Y%m%d_%H%M%S\")\n",
    "    filename = f\"life_expectancy_all_{timestamp}.csv\"\n",
    "    df.to_csv(filename)\n",
    "    print(f\"All data saved as: {filename}\")\n",
    "\n",
    "# Function 2: Save chart data (filtered by selected countries)\n",
    "def save_chart_data(b):\n",
    "    selected = [location1.value, location2.value, location3.value]\n",
    "    df_selected = df[selected]\n",
    "    timestamp = datetime.now().strftime(\"%Y%m%d_%H%M%S\")\n",
    "    filename = f\"life_expectancy_selected_{timestamp}.csv\"\n",
    "    df_selected.to_csv(filename)\n",
    "    print(f\"Chart data saved as: {filename}\")\n",
    "\n",
    "# GitHub Icon Button (HTML with link and image)\n",
    "btn_github = widgets.HTML(\n",
    "    value=\"\"\"\n",
    "    <a href=\"https://github.com/denisecase/progress-atlas\" target=\"_blank\" style=\"text-decoration: none;\">\n",
    "        <img src=\"https://img.shields.io/badge/-GitHub-000?logo=github&logoColor=black&style=social\" alt=\"GitHub\"/>\n",
    "    </a>\n",
    "    \"\"\",\n",
    "    layout=widgets.Layout(margin=\"0px 10px 0px 0px\")\n",
    ")\n",
    "\n",
    "# Save Buttons\n",
    "btn_chart = widgets.Button(description=\"💾 Save Chart Data\", button_style=\"success\")\n",
    "btn_all = widgets.Button(description=\"💾 Save All Data\", button_style=\"info\")\n",
    "\n",
    "# Link buttons to functions\n",
    "btn_chart.on_click(save_chart_data)\n",
    "btn_all.on_click(save_all_data)\n",
    "\n",
    "# Display\n",
    "display(widgets.HBox([btn_chart, btn_all]))\n",
    "display(widgets.HBox([btn_github]))\n"
   ]
  },
  {
   "cell_type": "markdown",
   "id": "66979bdf",
   "metadata": {},
   "source": [
    "---\n",
    "\n",
    "## Save or Export the Chart\n",
    "\n",
    "After customizing your selections:\n",
    "\n",
    "- **To save the chart image:**  \n",
    "  Hover over the chart and click the camera icon 📷 to download it as a PNG.\n",
    "\n",
    "- **To export data to a CSV file:**  \n",
    "  Click the associated button. \n",
    "\n",
    "---\n",
    "## Life Expectancy Data\n",
    "- Source: World Bank\n",
    "- Title: Life Expectancy at Birth (1960-2022)\n",
    "- URL: https://data.worldbank.org/indicator/SP.DYN.LE00.IN\n",
    "- Downloaded: 2025-05-28\n",
    "- Format: CSV"
   ]
  }
 ],
 "metadata": {
  "kernelspec": {
   "display_name": ".venv",
   "language": "python",
   "name": "python3"
  },
  "language_info": {
   "codemirror_mode": {
    "name": "ipython",
    "version": 3
   },
   "file_extension": ".py",
   "mimetype": "text/x-python",
   "name": "python",
   "nbconvert_exporter": "python",
   "pygments_lexer": "ipython3",
   "version": "3.12.4"
  }
 },
 "nbformat": 4,
 "nbformat_minor": 5
}
